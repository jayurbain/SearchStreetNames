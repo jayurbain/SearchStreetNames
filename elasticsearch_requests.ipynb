{
 "cells": [
  {
   "cell_type": "markdown",
   "metadata": {},
   "source": [
    "## ElasticSearch Requests\n",
    "\n",
    "Jay Urbain, PhD\n",
    "jay.urbain@gmail.com\n"
   ]
  },
  {
   "cell_type": "markdown",
   "metadata": {},
   "source": [
    "Simple test query for local ES server"
   ]
  },
  {
   "cell_type": "code",
   "execution_count": 18,
   "metadata": {},
   "outputs": [
    {
     "name": "stdout",
     "output_type": "stream",
     "text": [
      "<class 'str'>\n",
      "{\"took\":23,\"timed_out\":false,\"_shards\":{\"total\":1,\"successful\":1,\"skipped\":0,\"failed\":0},\"hits\":{\"total\":{\"value\":109,\"relation\":\"eq\"},\"max_score\":14.05933,\"hits\":[{\"_index\":\"intersections_p2\",\"_type\":\"_doc\",\"_id\":\"196635218\",\"_score\":14.05933,\"_source\":{\"location\": {\"lat\": 43.1796597, \"lon\": -87.8952999}, \"streets\": [\"North Lake Drive\", \"East Standish Place\"], \"place\": \"Bayside, Wisconsin\"},\"highlight\":{\"streets\":[\"North <em>Lake</em> <em>Drive</em>\",\"<em>East</em> <em>Standish</em> <em>Place</em>\"]}},{\"_index\":\"intersections_p2\",\"_type\":\"_doc\",\"_id\":\"196665007\",\"_score\":10.578792,\"_source\":{\"location\": {\"lat\": 43.179363, \"lon\": -87.8912343}, \"streets\": [\"East Standish Place\", \"North Bayside Drive\"], \"place\": \"Bayside, Wisconsin\"},\"highlight\":{\"streets\":[\"<em>East</em> <em>Standish</em> <em>Place</em>\",\"North Bayside <em>Drive</em>\"]}},{\"_index\":\"intersections_p2\",\"_type\":\"_doc\",\"_id\":\"196665005\",\"_score\":10.578792,\"_source\":{\"location\": {\"lat\": 43.1795345, \"lon\": -87.8928784}, \"streets\": [\"North Tennyson Drive\", \"East Standish Place\"], \"place\": \"Bayside, Wisconsin\"},\"highlight\":{\"streets\":[\"North Tennyson <em>Drive</em>\",\"<em>East</em> <em>Standish</em> <em>Place</em>\"]}},{\"_index\":\"intersections_p2\",\"_type\":\"_doc\",\"_id\":\"196665003\",\"_score\":10.578792,\"_source\":{\"location\": {\"lat\": 43.1795702, \"lon\": -87.8936456}, \"streets\": [\"North Tennyson Drive\", \"East Standish Place\"], \"place\": \"Bayside, Wisconsin\"},\"highlight\":{\"streets\":[\"North Tennyson <em>Drive</em>\",\"<em>East</em> <em>Standish</em> <em>Place</em>\"]}},{\"_index\":\"intersections_p2\",\"_type\":\"_doc\",\"_id\":\"196665011\",\"_score\":9.2472925,\"_source\":{\"location\": {\"lat\": 43.1786498, \"lon\": -87.8889138}, \"streets\": [\"East Standish Place\"], \"place\": \"Bayside, Wisconsin\"},\"highlight\":{\"streets\":[\"<em>East</em> <em>Standish</em> <em>Place</em>\"]}},{\"_index\":\"intersections_p2\",\"_type\":\"_doc\",\"_id\":\"472988808\",\"_score\":9.051197,\"_source\":{\"location\": {\"lat\": 43.1707462, \"lon\": -87.8955177}, \"streets\": [\"North Lake Drive\", \"East Buttles Place\"], \"place\": \"Bayside, Wisconsin\"},\"highlight\":{\"streets\":[\"North <em>Lake</em> <em>Drive</em>\",\"<em>East</em> Buttles <em>Place</em>\"]}},{\"_index\":\"intersections_p2\",\"_type\":\"_doc\",\"_id\":\"472988853\",\"_score\":9.051197,\"_source\":{\"location\": {\"lat\": 43.1747281, \"lon\": -87.895458}, \"streets\": [\"North Lake Drive\", \"East Wahner Place\"], \"place\": \"Bayside, Wisconsin\"},\"highlight\":{\"streets\":[\"North <em>Lake</em> <em>Drive</em>\",\"<em>East</em> Wahner <em>Place</em>\"]}},{\"_index\":\"intersections_p2\",\"_type\":\"_doc\",\"_id\":\"472988850\",\"_score\":9.051197,\"_source\":{\"location\": {\"lat\": 43.1729254, \"lon\": -87.8954734}, \"streets\": [\"North Lake Drive\", \"East Wabash Place\"], \"place\": \"Bayside, Wisconsin\"},\"highlight\":{\"streets\":[\"North <em>Lake</em> <em>Drive</em>\",\"<em>East</em> Wabash <em>Place</em>\"]}},{\"_index\":\"intersections_p2\",\"_type\":\"_doc\",\"_id\":\"196635217\",\"_score\":9.051197,\"_source\":{\"location\": {\"lat\": 43.1780603, \"lon\": -87.8953535}, \"streets\": [\"East Glencoe Place\", \"North Lake Drive\"], \"place\": \"Bayside, Wisconsin\"},\"highlight\":{\"streets\":[\"<em>East</em> Glencoe <em>Place</em>\",\"North <em>Lake</em> <em>Drive</em>\"]}},{\"_index\":\"intersections_p2\",\"_type\":\"_doc\",\"_id\":\"196635230\",\"_score\":9.051197,\"_source\":{\"location\": {\"lat\": 43.1875839, \"lon\": -87.8950725}, \"streets\": [\"North Lake Drive\", \"East Crocker Place\"], \"place\": \"Bayside, Wisconsin\"},\"highlight\":{\"streets\":[\"North <em>Lake</em> <em>Drive</em>\",\"<em>East</em> Crocker <em>Place</em>\"]}}]}}\n"
     ]
    }
   ],
   "source": [
    "streets = 'east standish place and lake drive'\n",
    "data = '{\"query\" : {\"match\": { \"streets\": \"' + streets + '\" }}, \"highlight\" : {\"fields\" : {\"streets\" : {}}}}'\n",
    "\n",
    "headers={'Accept': 'application/json', 'Content-type': 'application/json'}\n",
    "\n",
    "elastic_url ='http://localhost:9200/intersections_p2/_search'\n",
    "\n",
    "#query = json.dumps(json_data)\n",
    "\n",
    "#response = requests.get(elastic_url, data = query, auth=('xxx','xxx'), verify=False, headers = headers)\n",
    "\n",
    "response = requests.get(elastic_url, data=data, headers = headers)\n",
    "\n",
    "print( type(response.text))\n",
    "\n",
    "print(response.text)"
   ]
  },
  {
   "cell_type": "markdown",
   "metadata": {},
   "source": [
    "Figure out how to process search results"
   ]
  },
  {
   "cell_type": "code",
   "execution_count": 24,
   "metadata": {},
   "outputs": [
    {
     "name": "stdout",
     "output_type": "stream",
     "text": [
      "14.05933 ['North Lake Drive', 'East Standish Place'] {'streets': ['North <em>Lake</em> <em>Drive</em>', '<em>East</em> <em>Standish</em> <em>Place</em>']} Bayside, Wisconsin\n",
      "10.578792 ['East Standish Place', 'North Bayside Drive'] {'streets': ['<em>East</em> <em>Standish</em> <em>Place</em>', 'North Bayside <em>Drive</em>']} Bayside, Wisconsin\n",
      "10.578792 ['North Tennyson Drive', 'East Standish Place'] {'streets': ['North Tennyson <em>Drive</em>', '<em>East</em> <em>Standish</em> <em>Place</em>']} Bayside, Wisconsin\n",
      "10.578792 ['North Tennyson Drive', 'East Standish Place'] {'streets': ['North Tennyson <em>Drive</em>', '<em>East</em> <em>Standish</em> <em>Place</em>']} Bayside, Wisconsin\n",
      "9.2472925 ['East Standish Place'] {'streets': ['<em>East</em> <em>Standish</em> <em>Place</em>']} Bayside, Wisconsin\n",
      "9.051197 ['North Lake Drive', 'East Buttles Place'] {'streets': ['North <em>Lake</em> <em>Drive</em>', '<em>East</em> Buttles <em>Place</em>']} Bayside, Wisconsin\n",
      "9.051197 ['North Lake Drive', 'East Wahner Place'] {'streets': ['North <em>Lake</em> <em>Drive</em>', '<em>East</em> Wahner <em>Place</em>']} Bayside, Wisconsin\n",
      "9.051197 ['North Lake Drive', 'East Wabash Place'] {'streets': ['North <em>Lake</em> <em>Drive</em>', '<em>East</em> Wabash <em>Place</em>']} Bayside, Wisconsin\n",
      "9.051197 ['East Glencoe Place', 'North Lake Drive'] {'streets': ['<em>East</em> Glencoe <em>Place</em>', 'North <em>Lake</em> <em>Drive</em>']} Bayside, Wisconsin\n",
      "9.051197 ['North Lake Drive', 'East Crocker Place'] {'streets': ['North <em>Lake</em> <em>Drive</em>', '<em>East</em> Crocker <em>Place</em>']} Bayside, Wisconsin\n"
     ]
    }
   ],
   "source": [
    "import json\n",
    "\n",
    "d = json.loads(response.text)\n",
    "hits = d['hits']['hits']\n",
    "\n",
    "for h in hits:\n",
    "    score = h['_score']\n",
    "    source = h['_source']['streets']\n",
    "    place = h['_source']['place']\n",
    "    highlight = h['highlight']\n",
    "    print(score, source, highlight, place)"
   ]
  },
  {
   "cell_type": "markdown",
   "metadata": {},
   "source": [
    "Allstate sample, deidentified with dubbed locations for Bayside Wisconsin"
   ]
  },
  {
   "cell_type": "code",
   "execution_count": 2,
   "metadata": {},
   "outputs": [],
   "source": [
    "sample = \"plus ok purpose trip time accident going coming think leaving friend's house i'm going   actually going parents house friend's house headed south tennyson drive towards hermitage runs east west heading east light light like two turn lane left wait left green arrow light uh light green sunny cloud sky ok weather clear raining ok traffic light moderate heavy light ok passengers vehicle time right what's name road happened um accident actually happened clark road know ok here's ok here's weird thing clark road one point turns road turns stickney point i'm sure stickney point clark road clock that's fine that's fine road coming making left turn oh headed east start heading south swift road turning east onto clark golf gate estates florida um yeah left turn swift o'clock road correct right said outside light green green blew red light solid green already completed turn hit well paula green light arrow green light understand need verify made left turn solid green light arrow green light oh i'm firms arrow green light arrow ok made left turn arrow green light first intersection waiting light turn green ok first intersection ok made left road going straight heading east uh blew clark swift light said heading east ok yes remember heading south swift east   ok police involved oh yeah called report needed fault yep gave ticket reckless driving\""
   ]
  },
  {
   "cell_type": "markdown",
   "metadata": {},
   "source": [
    "Method to extract street names from ES highlighted results.\n",
    "\n",
    "```\n",
    "Takes list of strings of the form:   \n",
    "    North <em>Tennyson</em> <em>Drive</em>\n",
    "\n",
    "Returns list of strings of the form:   \n",
    "    tennyson drive\n",
    "```"
   ]
  },
  {
   "cell_type": "code",
   "execution_count": 45,
   "metadata": {},
   "outputs": [],
   "source": [
    "import re\n",
    "\n",
    "def extract_street_from_highlight(li):\n",
    "    '''\n",
    "    li - input list of strings: North <em>Tennyson</em> <em>Drive</em>\n",
    "    lo - output list of strings: tennyson drive\n",
    "    '''\n",
    "    lo = []\n",
    "    for i in li:\n",
    "        for s in i[2]['streets']:\n",
    "            print( s )\n",
    "            street_search = re.search('<em>(.*)</em>', s, re.IGNORECASE)\n",
    "            street = street_search.group(1)\n",
    "            street = street.replace('<em>', '').replace('</em>','')\n",
    "            lo.append(street.lower())\n",
    "            prinit(street.lower())\n",
    "            return lo"
   ]
  },
  {
   "cell_type": "markdown",
   "metadata": {},
   "source": [
    "Method to search street names given:  \n",
    "- `elastic_url` - elasticsearch url\n",
    "- `streets` - query, for example, \"blah blah Tennyson Drive and East Standish Place blah blah blah\"\n",
    "- `place` - filter by the place associated with streets when indexed (optional)"
   ]
  },
  {
   "cell_type": "code",
   "execution_count": 41,
   "metadata": {},
   "outputs": [
    {
     "name": "stdout",
     "output_type": "stream",
     "text": [
      "{\n",
      "        \"query\": {\n",
      "            \"bool\": {\n",
      "                \"must\": [\n",
      "                    {\n",
      "                        \"match\": {\n",
      "                            \"streets\": \"tennyson drive\"\n",
      "                        }\n",
      "                    },\n",
      "                    {\n",
      "                        \"match\": {\n",
      "                            \"place\": \"bayside\"\n",
      "                        }\n",
      "                    }\n",
      "                ]\n",
      "            }\n",
      "        },\n",
      "        \"highlight\": {\n",
      "            \"fields\": {\n",
      "                \"streets\": {}\n",
      "            }\n",
      "        }\n",
      "    }\n",
      "(26.18042, ['North Tennyson Drive', 'East Standish Place'], {'streets': ['North <em>Tennyson</em> <em>Drive</em>']}, 'Bayside, Wisconsin')\n",
      "(25.868534, ['East Bay Point Road', 'North Tennyson Drive'], {'streets': ['North <em>Tennyson</em> <em>Drive</em>']}, 'Bayside, Wisconsin')\n",
      "(25.346392, ['North Tennyson Drive', 'East Manor Circle'], {'streets': ['North <em>Tennyson</em> <em>Drive</em>']}, 'Bayside, Wisconsin')\n",
      "(25.22023, ['North Tennyson Drive', 'East Standish Place'], {'streets': ['North <em>Tennyson</em> <em>Drive</em>']}, 'Bayside, Wisconsin')\n",
      "(25.22023, ['North Tennyson Drive', 'East Hermitage Road'], {'streets': ['North <em>Tennyson</em> <em>Drive</em>']}, 'Bayside, Wisconsin')\n",
      "(24.870749, ['North Tennyson Drive', 'East Brown Deer Road'], {'streets': ['North <em>Tennyson</em> <em>Drive</em>']}, 'Bayside, Wisconsin')\n",
      "(24.755428, ['East Fairy Chasm Road', 'North Tennyson Drive'], {'streets': ['North <em>Tennyson</em> <em>Drive</em>']}, 'Bayside, Wisconsin')\n",
      "(14.265686, ['North Waverly Drive', 'North Fairway Drive', 'North Broadmoor Road'], {'streets': ['North Waverly <em>Drive</em>', 'North Fairway <em>Drive</em>']}, 'Bayside, Wisconsin')\n",
      "(14.181793, ['North Lake Drive'], {'streets': ['North Lake <em>Drive</em>']}, 'Bayside, Wisconsin')\n",
      "(14.181793, ['North Lake Drive', None], {'streets': ['North Lake <em>Drive</em>']}, 'Bayside, Wisconsin')\n"
     ]
    }
   ],
   "source": [
    "import json\n",
    "import requests\n",
    "import re\n",
    "\n",
    "def search_streets(elastic_url, streets, place=''):\n",
    "    \n",
    "    data = '{\"query\" : {\"match\": { \"streets\": \"' + streets + '\" }}, \"highlight\" : {\"fields\" : {\"streets\" : {}}}}'\n",
    "    \n",
    "    data = '''{{\n",
    "        \"query\": {{\n",
    "            \"bool\": {{\n",
    "                \"must\": [\n",
    "                    {{\n",
    "                        \"match\": {{\n",
    "                            \"streets\": \"{0}\"\n",
    "                        }}\n",
    "                    }},\n",
    "                    {{\n",
    "                        \"match\": {{\n",
    "                            \"place\": \"{1}\"\n",
    "                        }}\n",
    "                    }}\n",
    "                ]\n",
    "            }}\n",
    "        }},\n",
    "        \"highlight\": {{\n",
    "            \"fields\": {{\n",
    "                \"streets\": {{}}\n",
    "            }}\n",
    "        }}\n",
    "    }}'''.format('tennyson drive', 'bayside')\n",
    "    \n",
    "    print(data)\n",
    "\n",
    "    headers={'Accept': 'application/json', 'Content-type': 'application/json'}\n",
    "\n",
    "    response = requests.get(elastic_url, data=data, headers = headers)\n",
    "    d = json.loads(response.text)\n",
    "    hits = d['hits']['hits']\n",
    "\n",
    "    d = json.loads(response.text)\n",
    "    street_list = []\n",
    "    for h in hits:\n",
    "        score = h['_score']\n",
    "        source = h['_source']['streets']\n",
    "        place = h['_source']['place']\n",
    "        highlight = h['highlight']\n",
    "        street_list.append( (score, source, highlight, place) )\n",
    "    return street_list\n",
    "        \n",
    "# elastic_url = 'http://localhost:9200/intersections_p2/_search'\n",
    "elastic_url = 'https://search-intersections-p2-zoxb5qvz4i4en6vp5pg7yv44vy.us-east-1.es.amazonaws.com/intersections-p2/_search'\n",
    "streets = sample\n",
    "\n",
    "li = search_streets(elastic_url, streets)\n",
    "    \n",
    "for i in li:\n",
    "    print(i)"
   ]
  },
  {
   "cell_type": "code",
   "execution_count": 42,
   "metadata": {},
   "outputs": [
    {
     "name": "stdout",
     "output_type": "stream",
     "text": [
      "North <em>Tennyson</em> <em>Drive</em>\n",
      "tennyson drive\n",
      "146\n",
      "North <em>Tennyson</em> <em>Drive</em>\n",
      "tennyson drive\n",
      "146\n",
      "North <em>Tennyson</em> <em>Drive</em>\n",
      "tennyson drive\n",
      "146\n",
      "North <em>Tennyson</em> <em>Drive</em>\n",
      "tennyson drive\n",
      "146\n",
      "North <em>Tennyson</em> <em>Drive</em>\n",
      "tennyson drive\n",
      "146\n",
      "North <em>Tennyson</em> <em>Drive</em>\n",
      "tennyson drive\n",
      "146\n",
      "North <em>Tennyson</em> <em>Drive</em>\n",
      "tennyson drive\n",
      "146\n",
      "North Waverly <em>Drive</em>\n",
      "drive\n",
      "155\n",
      "North Fairway <em>Drive</em>\n",
      "drive\n",
      "155\n",
      "North Lake <em>Drive</em>\n",
      "drive\n",
      "155\n",
      "North Lake <em>Drive</em>\n",
      "drive\n",
      "155\n"
     ]
    }
   ],
   "source": [
    "import re\n",
    "\n",
    "for i in li:\n",
    "    for s in i[2]['streets']:\n",
    "        print( s )\n",
    "        street_search = re.search('<em>(.*)</em>', s, re.IGNORECASE)\n",
    "        street = street_search.group(1)\n",
    "        street = street.replace('<em>', '').replace('</em>','')\n",
    "        print(street.lower())\n",
    "        \n",
    "        print( sample.find(street.lower()) )\n"
   ]
  },
  {
   "cell_type": "markdown",
   "metadata": {},
   "source": [
    "Bulk data insert"
   ]
  },
  {
   "cell_type": "code",
   "execution_count": 55,
   "metadata": {},
   "outputs": [],
   "source": [
    "def post_bulk_insert(endpoint, data):\n",
    "   response = requests.post(endpoint, data=data, headers={'content-type':'application/json', 'charset':'UTF-8'})\n",
    "   return response"
   ]
  },
  {
   "cell_type": "code",
   "execution_count": 56,
   "metadata": {},
   "outputs": [
    {
     "name": "stdout",
     "output_type": "stream",
     "text": [
      "/Users/jayurbain/Dropbox/SearchStreetNames/SearchStreetNames\r\n"
     ]
    }
   ],
   "source": [
    "!pwd"
   ]
  },
  {
   "cell_type": "code",
   "execution_count": null,
   "metadata": {},
   "outputs": [
    {
     "name": "stdout",
     "output_type": "stream",
     "text": [
      "{\"index\": {\"_index\": \"intersections-p2\", \"_type\": \"_doc\", \"_id\": 99094596}}\n",
      "{\"location\": {\"lat\": 24.5474923, \"lon\": -81.7892392}, \"streets\": [\"Casa Marina Court\", \"Reynolds Street\", \"Atlantic Boulevard\"], \"place\": \"Florida\"}\n",
      "\n"
     ]
    }
   ],
   "source": [
    "import pandas as pd\n",
    "import numpy as np\n",
    "\n",
    "endpoint = 'https://search-intersections-p2-zoxb5qvz4i4en6vp5pg7yv44vy.us-east-1.es.amazonaws.com/intersections-p2/_bulk'\n",
    "datafile = 'florida_intersections-p2.json'\n",
    "\n",
    "with open(datafile) as fp:\n",
    "    line1 = fp.readline()\n",
    "    line2 = fp.readline()\n",
    "    data = line1 + line2\n",
    "    print(data)\n",
    "    post_bulk_insert(endpoint, data)\n",
    "    \n",
    "    cnt = 2\n",
    "    while line1 and line2:\n",
    "        line1 = fp.readline()\n",
    "        line2 = fp.readline()\n",
    "        data = line1 + line2\n",
    "#         print(data)\n",
    "        post_bulk_insert(endpoint, data)\n",
    "        cnt += 2\n",
    "    print(str(cnt), 'records inserted')"
   ]
  },
  {
   "cell_type": "code",
   "execution_count": null,
   "metadata": {},
   "outputs": [],
   "source": []
  }
 ],
 "metadata": {
  "kernelspec": {
   "display_name": "Python [conda env:ox] *",
   "language": "python",
   "name": "conda-env-ox-py"
  },
  "language_info": {
   "codemirror_mode": {
    "name": "ipython",
    "version": 3
   },
   "file_extension": ".py",
   "mimetype": "text/x-python",
   "name": "python",
   "nbconvert_exporter": "python",
   "pygments_lexer": "ipython3",
   "version": "3.8.1"
  }
 },
 "nbformat": 4,
 "nbformat_minor": 4
}
